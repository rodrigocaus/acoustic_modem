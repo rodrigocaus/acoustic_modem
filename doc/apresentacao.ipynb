{
 "cells": [
  {
   "cell_type": "markdown",
   "metadata": {},
   "source": [
    "# Modulação e Demodulação FSK para Comunicação via Ondas Acústicas"
   ]
  },
  {
   "cell_type": "markdown",
   "metadata": {},
   "source": [
    "## Motivação\n",
    "\n",
    " - Ainda que de baixa capacidade, é uma forma de comunicação alternativa à comunicação sem fio via onda eletromagnética, comumente empregadano cotidiano, como telefonia móvel, redes WiFi, dentre outras.\n",
    " - É utilizada em ambientes subaquáticos para monitoramento de diferentes áreas, visto que ondas de rádio frequência sofrem altas atenuações a baixas distâncias\n",
    " - A modulação de áudio FSK, já utilizada para comunicação subaquática, é bem simples de implementar, e permite testes em ambientes atmosféricos, visto que não é possível (ainda) realizar testes subaquáticos.\n"
   ]
  },
  {
   "cell_type": "markdown",
   "metadata": {},
   "source": [
    "## Objetivos\n",
    "\n",
    "Implementar um processo de comunicação, envolvendo codificação de mensagens, modulação e demodulação de sinais via software através de ondas sonoras moduladas por chaveamento de frequência. Além disso, discutir aspectos da comunicação, bem como suas viabilidade, eficácia e limitações, a partir de testes em ambientes acústicos em que o ar é o meio comunicante."
   ]
  },
  {
   "cell_type": "markdown",
   "metadata": {},
   "source": [
    "## Metodologia\n",
    "\n",
    "Quatro passos:\n",
    " - Codificação\n",
    " - Modulação\n",
    " - Demodulação\n",
    " - Decodificação\n",
    "Verificação por taxa de erro de bit (_BER_)"
   ]
  },
  {
   "cell_type": "code",
   "execution_count": 2,
   "metadata": {},
   "outputs": [],
   "source": [
    "import numpy as np\n",
    "from scipy import signal\n",
    "from scipy.io import wavfile\n",
    "import matplotlib.pyplot as plt\n",
    "import IPython.display as ipd\n",
    "\n",
    "import sys\n",
    "sys.path.append(\"../\")\n",
    "sys.path.append(\"../src/\")\n",
    "\n",
    "import modulation\n",
    "import demodulation\n"
   ]
  },
  {
   "cell_type": "markdown",
   "metadata": {},
   "source": [
    "## Codificação\n",
    "\n",
    "Consiste em transformar uma mensagem em um vetor de bits.\n",
    "À mensagem são adicionados cabeçalho e cauda que serão sincronizados posteriormente\n"
   ]
  },
  {
   "cell_type": "code",
   "execution_count": null,
   "metadata": {},
   "outputs": [],
   "source": []
  },
  {
   "cell_type": "markdown",
   "metadata": {},
   "source": [
    "## Modulação\n",
    "\n",
    "Modular a mensagem seguindo a equação:\n",
    "\n",
    "<p align=\"center\">\n",
    "    <a href=\"https://www.codecogs.com/eqnedit.php?latex=x(t)&space;=&space;A_0cos(2\\pi\\&space;(f_0&space;&plus;&space;\\Delta_f&space;\\cdot&space;m_b(t))\\&space;t)&space;%0\" target=\"_blank\"><img src=\"https://latex.codecogs.com/gif.latex?x(t)&space;=&space;A_0cos(2\\pi\\&space;(f_0&space;&plus;&space;\\Delta_f&space;\\cdot&space;m_b(t))\\&space;t)&space;%0\" title=\"x(t) = A_0cos(2\\pi\\ (f_0 + \\Delta_f \\cdot m_b(t))\\ t) %0\" /></a>\n",
    "</p>\n"
   ]
  },
  {
   "cell_type": "code",
   "execution_count": null,
   "metadata": {},
   "outputs": [],
   "source": []
  },
  {
   "cell_type": "markdown",
   "metadata": {},
   "source": [
    "## Demodulação\n",
    "\n",
    "Processo não-coerente, isto é, não depende da fase para ser feito. O processo pode ser sintetizado pela figura (INSERIR FIGURA DEPOIS):\n"
   ]
  },
  {
   "cell_type": "code",
   "execution_count": null,
   "metadata": {},
   "outputs": [],
   "source": []
  },
  {
   "cell_type": "markdown",
   "metadata": {},
   "source": [
    "### Subamostragem\n",
    "\n",
    "Deve seguir a taxa de bits da comunicação, pois leva em conta o _número de amostras por bit_ para fazer uma média.\n"
   ]
  },
  {
   "cell_type": "code",
   "execution_count": null,
   "metadata": {},
   "outputs": [],
   "source": []
  },
  {
   "cell_type": "markdown",
   "metadata": {},
   "source": [
    "## Decodificação\n",
    "\n",
    "Consiste no processo de sincronização e obtenção da mensagem a partir de um vetor de bits."
   ]
  },
  {
   "cell_type": "code",
   "execution_count": null,
   "metadata": {},
   "outputs": [],
   "source": []
  },
  {
   "cell_type": "markdown",
   "metadata": {},
   "source": [
    "## Testes e Resultados"
   ]
  },
  {
   "cell_type": "code",
   "execution_count": null,
   "metadata": {},
   "outputs": [],
   "source": []
  },
  {
   "cell_type": "markdown",
   "metadata": {},
   "source": [
    "## Considerações Finais\n",
    "\n",
    "(VAMOS VER O QUE ESCREVER AQUI POSTERIORMENTE. IMAGINO ALGO SIMPLES, RELACIONADO À MEDIÇÃO DE _BER_ OU ALGO ASSIM)"
   ]
  },
  {
   "cell_type": "code",
   "execution_count": null,
   "metadata": {},
   "outputs": [],
   "source": []
  }
 ],
 "metadata": {
  "kernelspec": {
   "display_name": "Python 3",
   "language": "python",
   "name": "python3"
  },
  "language_info": {
   "codemirror_mode": {
    "name": "ipython",
    "version": 3
   },
   "file_extension": ".py",
   "mimetype": "text/x-python",
   "name": "python",
   "nbconvert_exporter": "python",
   "pygments_lexer": "ipython3",
   "version": "3.6.8"
  }
 },
 "nbformat": 4,
 "nbformat_minor": 2
}
